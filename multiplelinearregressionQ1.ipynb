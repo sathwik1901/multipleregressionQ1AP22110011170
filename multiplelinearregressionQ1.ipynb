{
  "nbformat": 4,
  "nbformat_minor": 0,
  "metadata": {
    "colab": {
      "provenance": []
    },
    "kernelspec": {
      "name": "python3",
      "display_name": "Python 3"
    },
    "language_info": {
      "name": "python"
    }
  },
  "cells": [
    {
      "cell_type": "code",
      "execution_count": null,
      "metadata": {
        "id": "NgL_mcJASYKF"
      },
      "outputs": [],
      "source": [
        "import pandas as pd\n",
        "import numpy as np\n",
        "from sklearn.model_selection import train_test_split\n",
        "from sklearn.linear_model import LinearRegression\n",
        "from sklearn.preprocessing import StandardScaler\n",
        "from sklearn.metrics import mean_squared_error, mean_absolute_error, r2_score"
      ]
    },
    {
      "cell_type": "code",
      "source": [
        "df = pd.read_csv('/content/sample_data/50_Startups.csv')\n",
        "df = pd.get_dummies(df, columns=['State'], drop_first=True)\n",
        "X_features = df.drop(columns=['Profit'])\n",
        "y_target = df['Profit']"
      ],
      "metadata": {
        "id": "ZdMUwvBFUQEH"
      },
      "execution_count": null,
      "outputs": []
    },
    {
      "cell_type": "code",
      "source": [
        "scaler = StandardScaler()\n",
        "X_scaled = scaler.fit_transform(X_features)"
      ],
      "metadata": {
        "id": "b3v-CsZmUbrf"
      },
      "execution_count": null,
      "outputs": []
    },
    {
      "cell_type": "code",
      "source": [
        "X_trn, X_tst, y_trn, y_tst = train_test_split(X_scaled, y_target, test_size=0.2, random_state=0)"
      ],
      "metadata": {
        "id": "9SdO0d32UeZx"
      },
      "execution_count": null,
      "outputs": []
    },
    {
      "cell_type": "code",
      "source": [
        "regressor = LinearRegression()\n",
        "regressor.fit(X_trn, y_trn)\n",
        "y_predicted = regressor.predict(X_tst)"
      ],
      "metadata": {
        "id": "WS1m1UlOUg7K"
      },
      "execution_count": null,
      "outputs": []
    },
    {
      "cell_type": "code",
      "source": [
        "r2_val = r2_score(y_tst, y_predicted)\n",
        "mse_val = mean_squared_error(y_tst, y_predicted)\n",
        "rmse_val = np.sqrt(mse_val)\n",
        "mae_val = mean_absolute_error(y_tst, y_predicted)\n",
        "\n",
        "print(f'R-squared: {r2_val}')\n",
        "print(f'MSE: {mse_val}')\n",
        "print(f'RMSE: {rmse_val}')\n",
        "print(f'MAE: {mae_val}')"
      ],
      "metadata": {
        "colab": {
          "base_uri": "https://localhost:8080/"
        },
        "id": "liiIJ1EAVWTp",
        "outputId": "0076b988-eec2-4ed9-ba56-bf6045f18d4d"
      },
      "execution_count": null,
      "outputs": [
        {
          "output_type": "stream",
          "name": "stdout",
          "text": [
            "R-squared: 0.9347068473282424\n",
            "MSE: 83502864.03257756\n",
            "RMSE: 9137.990152794955\n",
            "MAE: 7514.293659640616\n"
          ]
        }
      ]
    }
  ]
}